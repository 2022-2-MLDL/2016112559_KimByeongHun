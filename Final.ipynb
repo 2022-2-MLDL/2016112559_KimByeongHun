{
 "cells": [
  {
   "cell_type": "code",
   "execution_count": 54,
   "id": "cbe1d54d",
   "metadata": {},
   "outputs": [],
   "source": [
    "import pandas as pd\n",
    "\n",
    "from matplotlib import pyplot as plt\n",
    "\n",
    "from tqdm import tqdm"
   ]
  },
  {
   "cell_type": "code",
   "execution_count": 40,
   "id": "89c33b48",
   "metadata": {},
   "outputs": [],
   "source": [
    "from sklearn.ensemble import RandomForestClassifier, VotingClassifier\n",
    "from sklearn.neural_network import MLPClassifier\n",
    "from sklearn.linear_model import LogisticRegression\n",
    "\n",
    "from sklearn.model_selection import train_test_split, StratifiedKFold\n",
    "from sklearn.metrics import classification_report, f1_score, recall_score, precision_score"
   ]
  },
  {
   "cell_type": "code",
   "execution_count": 9,
   "id": "ece4ddaa",
   "metadata": {},
   "outputs": [],
   "source": [
    "from imblearn.over_sampling import SMOTE"
   ]
  },
  {
   "cell_type": "code",
   "execution_count": 10,
   "id": "5b9f5ed7",
   "metadata": {
    "scrolled": false
   },
   "outputs": [
    {
     "data": {
      "text/html": [
       "<div>\n",
       "<style scoped>\n",
       "    .dataframe tbody tr th:only-of-type {\n",
       "        vertical-align: middle;\n",
       "    }\n",
       "\n",
       "    .dataframe tbody tr th {\n",
       "        vertical-align: top;\n",
       "    }\n",
       "\n",
       "    .dataframe thead th {\n",
       "        text-align: right;\n",
       "    }\n",
       "</style>\n",
       "<table border=\"1\" class=\"dataframe\">\n",
       "  <thead>\n",
       "    <tr style=\"text-align: right;\">\n",
       "      <th></th>\n",
       "      <th>ELMO2</th>\n",
       "      <th>CREB3L1</th>\n",
       "      <th>RPS11</th>\n",
       "      <th>PNMA1</th>\n",
       "      <th>MMP2</th>\n",
       "      <th>C10orf90</th>\n",
       "      <th>ZHX3</th>\n",
       "      <th>ERCC5</th>\n",
       "      <th>GPR98</th>\n",
       "      <th>RXFP3</th>\n",
       "      <th>...</th>\n",
       "      <th>GRIP2</th>\n",
       "      <th>GPLD1</th>\n",
       "      <th>RAB8A</th>\n",
       "      <th>RXFP2</th>\n",
       "      <th>PIK3IP1</th>\n",
       "      <th>SLC39A6</th>\n",
       "      <th>SNRPD2</th>\n",
       "      <th>AQP7</th>\n",
       "      <th>CTSC</th>\n",
       "      <th>label</th>\n",
       "    </tr>\n",
       "  </thead>\n",
       "  <tbody>\n",
       "    <tr>\n",
       "      <th>0</th>\n",
       "      <td>0.543250</td>\n",
       "      <td>0.22150</td>\n",
       "      <td>-0.260750</td>\n",
       "      <td>-0.37725</td>\n",
       "      <td>0.494500</td>\n",
       "      <td>-2.332500</td>\n",
       "      <td>0.099500</td>\n",
       "      <td>-0.41600</td>\n",
       "      <td>0.432375</td>\n",
       "      <td>0.2495</td>\n",
       "      <td>...</td>\n",
       "      <td>0.01750</td>\n",
       "      <td>1.398833</td>\n",
       "      <td>0.0598</td>\n",
       "      <td>0.8555</td>\n",
       "      <td>1.19075</td>\n",
       "      <td>2.9684</td>\n",
       "      <td>-0.5929</td>\n",
       "      <td>-0.5935</td>\n",
       "      <td>0.1657</td>\n",
       "      <td>1</td>\n",
       "    </tr>\n",
       "    <tr>\n",
       "      <th>1</th>\n",
       "      <td>1.126250</td>\n",
       "      <td>0.65250</td>\n",
       "      <td>0.119500</td>\n",
       "      <td>0.86675</td>\n",
       "      <td>1.315667</td>\n",
       "      <td>-2.431000</td>\n",
       "      <td>-0.296667</td>\n",
       "      <td>-0.22125</td>\n",
       "      <td>-0.350500</td>\n",
       "      <td>0.1260</td>\n",
       "      <td>...</td>\n",
       "      <td>0.05850</td>\n",
       "      <td>-0.259667</td>\n",
       "      <td>1.3683</td>\n",
       "      <td>0.2785</td>\n",
       "      <td>2.57425</td>\n",
       "      <td>2.4282</td>\n",
       "      <td>0.4476</td>\n",
       "      <td>-0.6615</td>\n",
       "      <td>0.9524</td>\n",
       "      <td>1</td>\n",
       "    </tr>\n",
       "    <tr>\n",
       "      <th>2</th>\n",
       "      <td>-0.097833</td>\n",
       "      <td>0.87075</td>\n",
       "      <td>0.045500</td>\n",
       "      <td>-1.22150</td>\n",
       "      <td>-0.544833</td>\n",
       "      <td>-2.118250</td>\n",
       "      <td>0.428167</td>\n",
       "      <td>-0.13900</td>\n",
       "      <td>-0.145625</td>\n",
       "      <td>-0.1520</td>\n",
       "      <td>...</td>\n",
       "      <td>-0.97025</td>\n",
       "      <td>-1.761167</td>\n",
       "      <td>-0.2321</td>\n",
       "      <td>-0.2020</td>\n",
       "      <td>2.07175</td>\n",
       "      <td>0.2635</td>\n",
       "      <td>0.7134</td>\n",
       "      <td>-0.8645</td>\n",
       "      <td>-0.1184</td>\n",
       "      <td>1</td>\n",
       "    </tr>\n",
       "    <tr>\n",
       "      <th>3</th>\n",
       "      <td>0.449583</td>\n",
       "      <td>0.16475</td>\n",
       "      <td>-0.550875</td>\n",
       "      <td>0.51075</td>\n",
       "      <td>0.348667</td>\n",
       "      <td>-0.807250</td>\n",
       "      <td>-1.072833</td>\n",
       "      <td>-0.56850</td>\n",
       "      <td>-1.437250</td>\n",
       "      <td>0.4845</td>\n",
       "      <td>...</td>\n",
       "      <td>0.01750</td>\n",
       "      <td>-0.450667</td>\n",
       "      <td>1.7279</td>\n",
       "      <td>0.0910</td>\n",
       "      <td>2.13950</td>\n",
       "      <td>-1.8028</td>\n",
       "      <td>-0.0696</td>\n",
       "      <td>0.0570</td>\n",
       "      <td>0.6881</td>\n",
       "      <td>1</td>\n",
       "    </tr>\n",
       "    <tr>\n",
       "      <th>4</th>\n",
       "      <td>0.413667</td>\n",
       "      <td>1.35900</td>\n",
       "      <td>0.601750</td>\n",
       "      <td>1.26500</td>\n",
       "      <td>0.028000</td>\n",
       "      <td>-2.391500</td>\n",
       "      <td>0.008333</td>\n",
       "      <td>-0.13325</td>\n",
       "      <td>-1.876000</td>\n",
       "      <td>0.4510</td>\n",
       "      <td>...</td>\n",
       "      <td>-1.29100</td>\n",
       "      <td>-1.214833</td>\n",
       "      <td>0.1056</td>\n",
       "      <td>0.3545</td>\n",
       "      <td>1.66675</td>\n",
       "      <td>2.8042</td>\n",
       "      <td>-0.1138</td>\n",
       "      <td>-1.6980</td>\n",
       "      <td>-0.6568</td>\n",
       "      <td>1</td>\n",
       "    </tr>\n",
       "    <tr>\n",
       "      <th>5</th>\n",
       "      <td>0.436333</td>\n",
       "      <td>-0.04350</td>\n",
       "      <td>0.208125</td>\n",
       "      <td>0.23975</td>\n",
       "      <td>-1.130167</td>\n",
       "      <td>-2.204750</td>\n",
       "      <td>1.177167</td>\n",
       "      <td>0.40650</td>\n",
       "      <td>0.256500</td>\n",
       "      <td>0.5150</td>\n",
       "      <td>...</td>\n",
       "      <td>-0.29200</td>\n",
       "      <td>0.089500</td>\n",
       "      <td>0.1273</td>\n",
       "      <td>0.3170</td>\n",
       "      <td>2.26575</td>\n",
       "      <td>3.0265</td>\n",
       "      <td>-0.2115</td>\n",
       "      <td>-0.9400</td>\n",
       "      <td>-0.0443</td>\n",
       "      <td>1</td>\n",
       "    </tr>\n",
       "    <tr>\n",
       "      <th>6</th>\n",
       "      <td>-0.123083</td>\n",
       "      <td>1.14400</td>\n",
       "      <td>0.298375</td>\n",
       "      <td>-0.53550</td>\n",
       "      <td>2.458667</td>\n",
       "      <td>-0.393000</td>\n",
       "      <td>-0.745500</td>\n",
       "      <td>-0.01675</td>\n",
       "      <td>-1.725625</td>\n",
       "      <td>-0.0500</td>\n",
       "      <td>...</td>\n",
       "      <td>-0.02300</td>\n",
       "      <td>-0.580333</td>\n",
       "      <td>-0.0044</td>\n",
       "      <td>0.4560</td>\n",
       "      <td>2.24550</td>\n",
       "      <td>-1.6863</td>\n",
       "      <td>-0.5876</td>\n",
       "      <td>0.1140</td>\n",
       "      <td>-0.5477</td>\n",
       "      <td>1</td>\n",
       "    </tr>\n",
       "    <tr>\n",
       "      <th>7</th>\n",
       "      <td>-0.037083</td>\n",
       "      <td>1.40025</td>\n",
       "      <td>1.406625</td>\n",
       "      <td>-0.42125</td>\n",
       "      <td>-0.217167</td>\n",
       "      <td>-1.404500</td>\n",
       "      <td>-0.569167</td>\n",
       "      <td>0.91700</td>\n",
       "      <td>1.048000</td>\n",
       "      <td>-0.0150</td>\n",
       "      <td>...</td>\n",
       "      <td>-0.30950</td>\n",
       "      <td>-0.307000</td>\n",
       "      <td>0.2461</td>\n",
       "      <td>2.2565</td>\n",
       "      <td>3.44400</td>\n",
       "      <td>1.9315</td>\n",
       "      <td>0.3168</td>\n",
       "      <td>1.6780</td>\n",
       "      <td>0.6586</td>\n",
       "      <td>1</td>\n",
       "    </tr>\n",
       "    <tr>\n",
       "      <th>8</th>\n",
       "      <td>-0.270818</td>\n",
       "      <td>2.66750</td>\n",
       "      <td>2.191125</td>\n",
       "      <td>-0.99675</td>\n",
       "      <td>3.825667</td>\n",
       "      <td>1.371667</td>\n",
       "      <td>-0.860333</td>\n",
       "      <td>-1.40375</td>\n",
       "      <td>0.208250</td>\n",
       "      <td>3.9070</td>\n",
       "      <td>...</td>\n",
       "      <td>1.20100</td>\n",
       "      <td>1.516667</td>\n",
       "      <td>-0.0346</td>\n",
       "      <td>0.1890</td>\n",
       "      <td>1.78125</td>\n",
       "      <td>-2.2335</td>\n",
       "      <td>1.8620</td>\n",
       "      <td>1.4320</td>\n",
       "      <td>1.6107</td>\n",
       "      <td>0</td>\n",
       "    </tr>\n",
       "    <tr>\n",
       "      <th>9</th>\n",
       "      <td>0.563750</td>\n",
       "      <td>1.28450</td>\n",
       "      <td>-0.222500</td>\n",
       "      <td>0.10800</td>\n",
       "      <td>1.158833</td>\n",
       "      <td>-2.398250</td>\n",
       "      <td>-0.345167</td>\n",
       "      <td>-0.76775</td>\n",
       "      <td>0.288750</td>\n",
       "      <td>0.4935</td>\n",
       "      <td>...</td>\n",
       "      <td>-0.02775</td>\n",
       "      <td>-1.778500</td>\n",
       "      <td>0.3082</td>\n",
       "      <td>-0.0515</td>\n",
       "      <td>2.29250</td>\n",
       "      <td>-2.6111</td>\n",
       "      <td>0.3225</td>\n",
       "      <td>-0.9425</td>\n",
       "      <td>0.4393</td>\n",
       "      <td>1</td>\n",
       "    </tr>\n",
       "  </tbody>\n",
       "</table>\n",
       "<p>10 rows × 17815 columns</p>\n",
       "</div>"
      ],
      "text/plain": [
       "      ELMO2  CREB3L1     RPS11    PNMA1      MMP2  C10orf90      ZHX3  \\\n",
       "0  0.543250  0.22150 -0.260750 -0.37725  0.494500 -2.332500  0.099500   \n",
       "1  1.126250  0.65250  0.119500  0.86675  1.315667 -2.431000 -0.296667   \n",
       "2 -0.097833  0.87075  0.045500 -1.22150 -0.544833 -2.118250  0.428167   \n",
       "3  0.449583  0.16475 -0.550875  0.51075  0.348667 -0.807250 -1.072833   \n",
       "4  0.413667  1.35900  0.601750  1.26500  0.028000 -2.391500  0.008333   \n",
       "5  0.436333 -0.04350  0.208125  0.23975 -1.130167 -2.204750  1.177167   \n",
       "6 -0.123083  1.14400  0.298375 -0.53550  2.458667 -0.393000 -0.745500   \n",
       "7 -0.037083  1.40025  1.406625 -0.42125 -0.217167 -1.404500 -0.569167   \n",
       "8 -0.270818  2.66750  2.191125 -0.99675  3.825667  1.371667 -0.860333   \n",
       "9  0.563750  1.28450 -0.222500  0.10800  1.158833 -2.398250 -0.345167   \n",
       "\n",
       "     ERCC5     GPR98   RXFP3  ...    GRIP2     GPLD1   RAB8A   RXFP2  PIK3IP1  \\\n",
       "0 -0.41600  0.432375  0.2495  ...  0.01750  1.398833  0.0598  0.8555  1.19075   \n",
       "1 -0.22125 -0.350500  0.1260  ...  0.05850 -0.259667  1.3683  0.2785  2.57425   \n",
       "2 -0.13900 -0.145625 -0.1520  ... -0.97025 -1.761167 -0.2321 -0.2020  2.07175   \n",
       "3 -0.56850 -1.437250  0.4845  ...  0.01750 -0.450667  1.7279  0.0910  2.13950   \n",
       "4 -0.13325 -1.876000  0.4510  ... -1.29100 -1.214833  0.1056  0.3545  1.66675   \n",
       "5  0.40650  0.256500  0.5150  ... -0.29200  0.089500  0.1273  0.3170  2.26575   \n",
       "6 -0.01675 -1.725625 -0.0500  ... -0.02300 -0.580333 -0.0044  0.4560  2.24550   \n",
       "7  0.91700  1.048000 -0.0150  ... -0.30950 -0.307000  0.2461  2.2565  3.44400   \n",
       "8 -1.40375  0.208250  3.9070  ...  1.20100  1.516667 -0.0346  0.1890  1.78125   \n",
       "9 -0.76775  0.288750  0.4935  ... -0.02775 -1.778500  0.3082 -0.0515  2.29250   \n",
       "\n",
       "   SLC39A6  SNRPD2    AQP7    CTSC  label  \n",
       "0   2.9684 -0.5929 -0.5935  0.1657      1  \n",
       "1   2.4282  0.4476 -0.6615  0.9524      1  \n",
       "2   0.2635  0.7134 -0.8645 -0.1184      1  \n",
       "3  -1.8028 -0.0696  0.0570  0.6881      1  \n",
       "4   2.8042 -0.1138 -1.6980 -0.6568      1  \n",
       "5   3.0265 -0.2115 -0.9400 -0.0443      1  \n",
       "6  -1.6863 -0.5876  0.1140 -0.5477      1  \n",
       "7   1.9315  0.3168  1.6780  0.6586      1  \n",
       "8  -2.2335  1.8620  1.4320  1.6107      0  \n",
       "9  -2.6111  0.3225 -0.9425  0.4393      1  \n",
       "\n",
       "[10 rows x 17815 columns]"
      ]
     },
     "execution_count": 10,
     "metadata": {},
     "output_type": "execute_result"
    }
   ],
   "source": [
    "data = pd.read_csv('project_data.csv')\n",
    "data.head(10)"
   ]
  },
  {
   "cell_type": "code",
   "execution_count": 11,
   "id": "be1cb2f5",
   "metadata": {},
   "outputs": [
    {
     "data": {
      "text/plain": [
       "(590, 17815)"
      ]
     },
     "execution_count": 11,
     "metadata": {},
     "output_type": "execute_result"
    }
   ],
   "source": [
    "data.shape"
   ]
  },
  {
   "cell_type": "code",
   "execution_count": 12,
   "id": "76a283e9",
   "metadata": {},
   "outputs": [
    {
     "data": {
      "image/png": "[encoded data removed]",
      "text/plain": [
       "<Figure size 432x288 with 1 Axes>"
      ]
     },
     "metadata": {
      "needs_background": "light"
     },
     "output_type": "display_data"
    }
   ],
   "source": [
    "data.label.value_counts().plot.bar()\n",
    "plt.xticks(rotation=0);"
   ]
  },
  {
   "cell_type": "code",
   "execution_count": 13,
   "id": "2994f57a",
   "metadata": {},
   "outputs": [
    {
     "data": {
      "text/plain": [
       "1    529\n",
       "0     61\n",
       "Name: label, dtype: int64"
      ]
     },
     "execution_count": 13,
     "metadata": {},
     "output_type": "execute_result"
    }
   ],
   "source": [
    "data.label.value_counts()"
   ]
  },
  {
   "cell_type": "code",
   "execution_count": 14,
   "id": "47c4daa1",
   "metadata": {},
   "outputs": [
    {
     "data": {
      "text/plain": [
       "0"
      ]
     },
     "execution_count": 14,
     "metadata": {},
     "output_type": "execute_result"
    }
   ],
   "source": [
    "data.fillna(data.mean(), inplace=True)\n",
    "data.isna().sum().sum()"
   ]
  },
  {
   "cell_type": "code",
   "execution_count": 16,
   "id": "a84a4354",
   "metadata": {},
   "outputs": [],
   "source": [
    "X_train, X_test, y_train, y_test = train_test_split(data.iloc[:, :-1], data.iloc[:, -1], test_size=0.33, stratify=data.label)"
   ]
  },
  {
   "cell_type": "code",
   "execution_count": 24,
   "id": "db27c9ca",
   "metadata": {},
   "outputs": [],
   "source": [
    "sm = SMOTE(sampling_strategy='auto', random_state=2022)\n",
    "X_resampled, y_resampled = sm.fit_resample(X_train,list(y_train))"
   ]
  },
  {
   "cell_type": "code",
   "execution_count": 63,
   "id": "09e2d1ca",
   "metadata": {},
   "outputs": [],
   "source": [
    "model_rf = RandomForestClassifier()\n",
    "model_mlp = MLPClassifier()\n",
    "model_log = LogisticRegression()\n",
    "eclf1 = VotingClassifier(estimators=[('rf', model_rf), ('mlp', model_mlp), ('log', model_log)], voting='soft')"
   ]
  },
  {
   "cell_type": "code",
   "execution_count": 68,
   "id": "da48a02a",
   "metadata": {},
   "outputs": [],
   "source": [
    "def test(X, y, model, smote=True):\n",
    "    kf = StratifiedKFold(n_splits = 3, shuffle = True, random_state = 50)\n",
    "    recall_history = []\n",
    "    precision_history = []\n",
    "    f1_history = []\n",
    "    for train_index, test_index in tqdm(kf.split(X, y)):\n",
    "        \n",
    "        X_train, X_test = X.iloc[train_index], X.iloc[test_index]\n",
    "        y_train, y_test = y[train_index], y[test_index]\n",
    "        if smote:\n",
    "            sm = SMOTE(sampling_strategy='auto', random_state=2022)\n",
    "            X_train, y_train = sm.fit_resample(X_train,list(y_train))\n",
    "\n",
    "        model.fit(X_train, y_train) # 모델 학습\n",
    "\n",
    "        y_pred = model.predict(X_test) # 예측 라벨\n",
    "        recall_history.append((recall_score(y_pred, y_test), recall_score(y_pred, y_test, pos_label=0)))\n",
    "        precision_history.append((precision_score(y_pred, y_test), precision_score(y_pred, y_test, pos_label=0)))\n",
    "        f1_history.append((f1_score(y_pred, y_test), f1_score(y_pred, y_test, pos_label=0)))\n",
    "        \n",
    "    return  precision_history, recall_history, f1_history"
   ]
  },
  {
   "cell_type": "code",
   "execution_count": 59,
   "id": "ed7102ba",
   "metadata": {},
   "outputs": [],
   "source": [
    "data = pd.read_csv('project_data.csv')\n",
    "data.fillna(data.mean(), inplace=True)\n",
    "X = data.iloc[:, :-1]\n",
    "y = data.iloc[:, -1]"
   ]
  },
  {
   "cell_type": "code",
   "execution_count": 69,
   "id": "23fb06e3",
   "metadata": {},
   "outputs": [
    {
     "name": "stderr",
     "output_type": "stream",
     "text": [
      "1it [00:42, 42.56s/it]C:\\Users\\bhkim\\anaconda3\\lib\\site-packages\\sklearn\\linear_model\\_logistic.py:458: ConvergenceWarning: lbfgs failed to converge (status=1):\n",
      "STOP: TOTAL NO. of ITERATIONS REACHED LIMIT.\n",
      "\n",
      "Increase the number of iterations (max_iter) or scale the data as shown in:\n",
      "    https://scikit-learn.org/stable/modules/preprocessing.html\n",
      "Please also refer to the documentation for alternative solver options:\n",
      "    https://scikit-learn.org/stable/modules/linear_model.html#logistic-regression\n",
      "  n_iter_i = _check_optimize_result(\n",
      "3it [02:20, 46.86s/it]\n"
     ]
    },
    {
     "data": {
      "text/plain": [
       "([(0.9943502824858758, 0.95), (1.0, 1.0), (1.0, 1.0)],\n",
       " [(0.9943502824858758, 0.95), (1.0, 1.0), (1.0, 1.0)],\n",
       " [(0.9943502824858758, 0.9500000000000001), (1.0, 1.0), (1.0, 1.0)])"
      ]
     },
     "execution_count": 69,
     "metadata": {},
     "output_type": "execute_result"
    }
   ],
   "source": [
    "test(X, y, eclf1)"
   ]
  },
  {
   "cell_type": "code",
   "execution_count": 70,
   "id": "de19ccda",
   "metadata": {},
   "outputs": [
    {
     "name": "stderr",
     "output_type": "stream",
     "text": [
      "3it [00:53, 17.74s/it]\n"
     ]
    },
    {
     "data": {
      "text/plain": [
       "([(0.9943502824858758, 0.9), (1.0, 1.0), (1.0, 1.0)],\n",
       " [(0.9887640449438202, 0.9473684210526315), (1.0, 1.0), (1.0, 1.0)],\n",
       " [(0.9915492957746479, 0.9230769230769231), (1.0, 1.0), (1.0, 1.0)])"
      ]
     },
     "execution_count": 70,
     "metadata": {},
     "output_type": "execute_result"
    }
   ],
   "source": [
    "test(X, y, eclf1, False)"
   ]
  },
  {
   "cell_type": "code",
   "execution_count": null,
   "id": "a4f99083",
   "metadata": {},
   "outputs": [],
   "source": []
  }
 ],
 "metadata": {
  "kernelspec": {
   "display_name": "Python 3",
   "language": "python",
   "name": "python3"
  },
  "language_info": {
   "codemirror_mode": {
    "name": "ipython",
    "version": 3
   },
   "file_extension": ".py",
   "mimetype": "text/x-python",
   "name": "python",
   "nbconvert_exporter": "python",
   "pygments_lexer": "ipython3",
   "version": "3.8.8"
  }
 },
 "nbformat": 4,
 "nbformat_minor": 5
}
